{
 "cells": [
  {
   "cell_type": "markdown",
   "metadata": {},
   "source": [
    "# Prediction of purchase amount\n",
    "A retail company “ABC Private Limited” wants to understand the customer purchase behaviour (specifically, purchase amount) against various products of different categories. They have shared purchase summary of various customers for selected high volume products from last month.The data set also contains customer demographics (age, gender, marital status, city_type, stay_in_current_city), product details (product_id and product category) and Total purchase_amount from last month. Now, they want to build a model to predict the purchase amount of customer against various products which will help them to create personalized offer for customers againstdifferent products"
   ]
  },
  {
   "cell_type": "code",
   "execution_count": 1,
   "metadata": {},
   "outputs": [],
   "source": [
    "# importing basic libraries\n",
    "\n",
    "import os\n",
    "import pandas as pd\n",
    "import numpy as np\n",
    "from sklearn.preprocessing import LabelEncoder"
   ]
  },
  {
   "cell_type": "code",
   "execution_count": 2,
   "metadata": {},
   "outputs": [],
   "source": [
    "os.chdir(r\"D:\\CBAP\\Python\\Project\\Analytics Vidhya\\Black Friday practice problem\")\n",
    "train_df = pd.read_csv(\"train.csv\")\n",
    "test_df = pd.read_csv('test.csv')\n",
    "submit = pd.read_csv(\"Sample_Submission_Tm9Lura.csv\")"
   ]
  },
  {
   "cell_type": "code",
   "execution_count": 3,
   "metadata": {},
   "outputs": [
    {
     "name": "stdout",
     "output_type": "stream",
     "text": [
      "Shape of train data: (550068, 12)\n"
     ]
    },
    {
     "data": {
      "text/html": [
       "<div>\n",
       "<style scoped>\n",
       "    .dataframe tbody tr th:only-of-type {\n",
       "        vertical-align: middle;\n",
       "    }\n",
       "\n",
       "    .dataframe tbody tr th {\n",
       "        vertical-align: top;\n",
       "    }\n",
       "\n",
       "    .dataframe thead th {\n",
       "        text-align: right;\n",
       "    }\n",
       "</style>\n",
       "<table border=\"1\" class=\"dataframe\">\n",
       "  <thead>\n",
       "    <tr style=\"text-align: right;\">\n",
       "      <th></th>\n",
       "      <th>User_ID</th>\n",
       "      <th>Product_ID</th>\n",
       "      <th>Gender</th>\n",
       "      <th>Age</th>\n",
       "      <th>Occupation</th>\n",
       "      <th>City_Category</th>\n",
       "      <th>Stay_In_Current_City_Years</th>\n",
       "      <th>Marital_Status</th>\n",
       "      <th>Product_Category_1</th>\n",
       "      <th>Product_Category_2</th>\n",
       "      <th>Product_Category_3</th>\n",
       "      <th>Purchase</th>\n",
       "    </tr>\n",
       "  </thead>\n",
       "  <tbody>\n",
       "    <tr>\n",
       "      <th>0</th>\n",
       "      <td>1000001</td>\n",
       "      <td>P00069042</td>\n",
       "      <td>F</td>\n",
       "      <td>0-17</td>\n",
       "      <td>10</td>\n",
       "      <td>A</td>\n",
       "      <td>2</td>\n",
       "      <td>0</td>\n",
       "      <td>3</td>\n",
       "      <td>NaN</td>\n",
       "      <td>NaN</td>\n",
       "      <td>8370</td>\n",
       "    </tr>\n",
       "    <tr>\n",
       "      <th>1</th>\n",
       "      <td>1000001</td>\n",
       "      <td>P00248942</td>\n",
       "      <td>F</td>\n",
       "      <td>0-17</td>\n",
       "      <td>10</td>\n",
       "      <td>A</td>\n",
       "      <td>2</td>\n",
       "      <td>0</td>\n",
       "      <td>1</td>\n",
       "      <td>6.0</td>\n",
       "      <td>14.0</td>\n",
       "      <td>15200</td>\n",
       "    </tr>\n",
       "    <tr>\n",
       "      <th>2</th>\n",
       "      <td>1000001</td>\n",
       "      <td>P00087842</td>\n",
       "      <td>F</td>\n",
       "      <td>0-17</td>\n",
       "      <td>10</td>\n",
       "      <td>A</td>\n",
       "      <td>2</td>\n",
       "      <td>0</td>\n",
       "      <td>12</td>\n",
       "      <td>NaN</td>\n",
       "      <td>NaN</td>\n",
       "      <td>1422</td>\n",
       "    </tr>\n",
       "    <tr>\n",
       "      <th>3</th>\n",
       "      <td>1000001</td>\n",
       "      <td>P00085442</td>\n",
       "      <td>F</td>\n",
       "      <td>0-17</td>\n",
       "      <td>10</td>\n",
       "      <td>A</td>\n",
       "      <td>2</td>\n",
       "      <td>0</td>\n",
       "      <td>12</td>\n",
       "      <td>14.0</td>\n",
       "      <td>NaN</td>\n",
       "      <td>1057</td>\n",
       "    </tr>\n",
       "    <tr>\n",
       "      <th>4</th>\n",
       "      <td>1000002</td>\n",
       "      <td>P00285442</td>\n",
       "      <td>M</td>\n",
       "      <td>55+</td>\n",
       "      <td>16</td>\n",
       "      <td>C</td>\n",
       "      <td>4+</td>\n",
       "      <td>0</td>\n",
       "      <td>8</td>\n",
       "      <td>NaN</td>\n",
       "      <td>NaN</td>\n",
       "      <td>7969</td>\n",
       "    </tr>\n",
       "  </tbody>\n",
       "</table>\n",
       "</div>"
      ],
      "text/plain": [
       "   User_ID Product_ID Gender   Age  Occupation City_Category  \\\n",
       "0  1000001  P00069042      F  0-17          10             A   \n",
       "1  1000001  P00248942      F  0-17          10             A   \n",
       "2  1000001  P00087842      F  0-17          10             A   \n",
       "3  1000001  P00085442      F  0-17          10             A   \n",
       "4  1000002  P00285442      M   55+          16             C   \n",
       "\n",
       "  Stay_In_Current_City_Years  Marital_Status  Product_Category_1  \\\n",
       "0                          2               0                   3   \n",
       "1                          2               0                   1   \n",
       "2                          2               0                  12   \n",
       "3                          2               0                  12   \n",
       "4                         4+               0                   8   \n",
       "\n",
       "   Product_Category_2  Product_Category_3  Purchase  \n",
       "0                 NaN                 NaN      8370  \n",
       "1                 6.0                14.0     15200  \n",
       "2                 NaN                 NaN      1422  \n",
       "3                14.0                 NaN      1057  \n",
       "4                 NaN                 NaN      7969  "
      ]
     },
     "execution_count": 3,
     "metadata": {},
     "output_type": "execute_result"
    }
   ],
   "source": [
    "print(\"Shape of train data: {}\".format(train_df.shape))\n",
    "train_df.head()"
   ]
  },
  {
   "cell_type": "code",
   "execution_count": 4,
   "metadata": {},
   "outputs": [
    {
     "name": "stdout",
     "output_type": "stream",
     "text": [
      "Shape of test data: (233599, 11)\n"
     ]
    },
    {
     "data": {
      "text/html": [
       "<div>\n",
       "<style scoped>\n",
       "    .dataframe tbody tr th:only-of-type {\n",
       "        vertical-align: middle;\n",
       "    }\n",
       "\n",
       "    .dataframe tbody tr th {\n",
       "        vertical-align: top;\n",
       "    }\n",
       "\n",
       "    .dataframe thead th {\n",
       "        text-align: right;\n",
       "    }\n",
       "</style>\n",
       "<table border=\"1\" class=\"dataframe\">\n",
       "  <thead>\n",
       "    <tr style=\"text-align: right;\">\n",
       "      <th></th>\n",
       "      <th>User_ID</th>\n",
       "      <th>Product_ID</th>\n",
       "      <th>Gender</th>\n",
       "      <th>Age</th>\n",
       "      <th>Occupation</th>\n",
       "      <th>City_Category</th>\n",
       "      <th>Stay_In_Current_City_Years</th>\n",
       "      <th>Marital_Status</th>\n",
       "      <th>Product_Category_1</th>\n",
       "      <th>Product_Category_2</th>\n",
       "      <th>Product_Category_3</th>\n",
       "    </tr>\n",
       "  </thead>\n",
       "  <tbody>\n",
       "    <tr>\n",
       "      <th>0</th>\n",
       "      <td>1000004</td>\n",
       "      <td>P00128942</td>\n",
       "      <td>M</td>\n",
       "      <td>46-50</td>\n",
       "      <td>7</td>\n",
       "      <td>B</td>\n",
       "      <td>2</td>\n",
       "      <td>1</td>\n",
       "      <td>1</td>\n",
       "      <td>11.0</td>\n",
       "      <td>NaN</td>\n",
       "    </tr>\n",
       "    <tr>\n",
       "      <th>1</th>\n",
       "      <td>1000009</td>\n",
       "      <td>P00113442</td>\n",
       "      <td>M</td>\n",
       "      <td>26-35</td>\n",
       "      <td>17</td>\n",
       "      <td>C</td>\n",
       "      <td>0</td>\n",
       "      <td>0</td>\n",
       "      <td>3</td>\n",
       "      <td>5.0</td>\n",
       "      <td>NaN</td>\n",
       "    </tr>\n",
       "    <tr>\n",
       "      <th>2</th>\n",
       "      <td>1000010</td>\n",
       "      <td>P00288442</td>\n",
       "      <td>F</td>\n",
       "      <td>36-45</td>\n",
       "      <td>1</td>\n",
       "      <td>B</td>\n",
       "      <td>4+</td>\n",
       "      <td>1</td>\n",
       "      <td>5</td>\n",
       "      <td>14.0</td>\n",
       "      <td>NaN</td>\n",
       "    </tr>\n",
       "    <tr>\n",
       "      <th>3</th>\n",
       "      <td>1000010</td>\n",
       "      <td>P00145342</td>\n",
       "      <td>F</td>\n",
       "      <td>36-45</td>\n",
       "      <td>1</td>\n",
       "      <td>B</td>\n",
       "      <td>4+</td>\n",
       "      <td>1</td>\n",
       "      <td>4</td>\n",
       "      <td>9.0</td>\n",
       "      <td>NaN</td>\n",
       "    </tr>\n",
       "    <tr>\n",
       "      <th>4</th>\n",
       "      <td>1000011</td>\n",
       "      <td>P00053842</td>\n",
       "      <td>F</td>\n",
       "      <td>26-35</td>\n",
       "      <td>1</td>\n",
       "      <td>C</td>\n",
       "      <td>1</td>\n",
       "      <td>0</td>\n",
       "      <td>4</td>\n",
       "      <td>5.0</td>\n",
       "      <td>12.0</td>\n",
       "    </tr>\n",
       "  </tbody>\n",
       "</table>\n",
       "</div>"
      ],
      "text/plain": [
       "   User_ID Product_ID Gender    Age  Occupation City_Category  \\\n",
       "0  1000004  P00128942      M  46-50           7             B   \n",
       "1  1000009  P00113442      M  26-35          17             C   \n",
       "2  1000010  P00288442      F  36-45           1             B   \n",
       "3  1000010  P00145342      F  36-45           1             B   \n",
       "4  1000011  P00053842      F  26-35           1             C   \n",
       "\n",
       "  Stay_In_Current_City_Years  Marital_Status  Product_Category_1  \\\n",
       "0                          2               1                   1   \n",
       "1                          0               0                   3   \n",
       "2                         4+               1                   5   \n",
       "3                         4+               1                   4   \n",
       "4                          1               0                   4   \n",
       "\n",
       "   Product_Category_2  Product_Category_3  \n",
       "0                11.0                 NaN  \n",
       "1                 5.0                 NaN  \n",
       "2                14.0                 NaN  \n",
       "3                 9.0                 NaN  \n",
       "4                 5.0                12.0  "
      ]
     },
     "execution_count": 4,
     "metadata": {},
     "output_type": "execute_result"
    }
   ],
   "source": [
    "print(\"Shape of test data: {}\".format(test_df.shape))\n",
    "test_df.head()"
   ]
  },
  {
   "cell_type": "code",
   "execution_count": 5,
   "metadata": {},
   "outputs": [
    {
     "name": "stdout",
     "output_type": "stream",
     "text": [
      "Shape of Submission data: (0, 3)\n"
     ]
    },
    {
     "data": {
      "text/html": [
       "<div>\n",
       "<style scoped>\n",
       "    .dataframe tbody tr th:only-of-type {\n",
       "        vertical-align: middle;\n",
       "    }\n",
       "\n",
       "    .dataframe tbody tr th {\n",
       "        vertical-align: top;\n",
       "    }\n",
       "\n",
       "    .dataframe thead th {\n",
       "        text-align: right;\n",
       "    }\n",
       "</style>\n",
       "<table border=\"1\" class=\"dataframe\">\n",
       "  <thead>\n",
       "    <tr style=\"text-align: right;\">\n",
       "      <th></th>\n",
       "      <th>User_ID</th>\n",
       "      <th>Product_ID</th>\n",
       "      <th>Purchase</th>\n",
       "    </tr>\n",
       "  </thead>\n",
       "  <tbody>\n",
       "  </tbody>\n",
       "</table>\n",
       "</div>"
      ],
      "text/plain": [
       "Empty DataFrame\n",
       "Columns: [User_ID, Product_ID, Purchase]\n",
       "Index: []"
      ]
     },
     "execution_count": 5,
     "metadata": {},
     "output_type": "execute_result"
    }
   ],
   "source": [
    "print(\"Shape of Submission data: {}\".format(submit.shape))\n",
    "submit.head()"
   ]
  },
  {
   "cell_type": "code",
   "execution_count": 6,
   "metadata": {},
   "outputs": [],
   "source": [
    "# Saving id variables to create final submission\n",
    "\n",
    "submit['User_ID'] = test_df['User_ID']\n",
    "submit['Product_ID'] = test_df['Product_ID']"
   ]
  },
  {
   "cell_type": "code",
   "execution_count": 7,
   "metadata": {},
   "outputs": [
    {
     "data": {
      "text/plain": [
       "Index(['Purchase'], dtype='object')"
      ]
     },
     "execution_count": 7,
     "metadata": {},
     "output_type": "execute_result"
    }
   ],
   "source": [
    "train_df.columns.difference(test_df.columns)"
   ]
  },
  {
   "cell_type": "code",
   "execution_count": 8,
   "metadata": {},
   "outputs": [
    {
     "data": {
      "text/plain": [
       "(5891, 5891)"
      ]
     },
     "execution_count": 8,
     "metadata": {},
     "output_type": "execute_result"
    }
   ],
   "source": [
    "train_df['User_ID'].nunique() ,test_df['User_ID'].nunique()\n",
    "# Both train and test have equal number of unique user id"
   ]
  },
  {
   "cell_type": "code",
   "execution_count": 9,
   "metadata": {},
   "outputs": [
    {
     "data": {
      "text/html": [
       "<div>\n",
       "<style scoped>\n",
       "    .dataframe tbody tr th:only-of-type {\n",
       "        vertical-align: middle;\n",
       "    }\n",
       "\n",
       "    .dataframe tbody tr th {\n",
       "        vertical-align: top;\n",
       "    }\n",
       "\n",
       "    .dataframe thead th {\n",
       "        text-align: right;\n",
       "    }\n",
       "</style>\n",
       "<table border=\"1\" class=\"dataframe\">\n",
       "  <thead>\n",
       "    <tr style=\"text-align: right;\">\n",
       "      <th></th>\n",
       "      <th>User_ID</th>\n",
       "      <th>Product_ID</th>\n",
       "      <th>Gender</th>\n",
       "      <th>Age</th>\n",
       "      <th>Occupation</th>\n",
       "      <th>City_Category</th>\n",
       "      <th>Stay_In_Current_City_Years</th>\n",
       "      <th>Marital_Status</th>\n",
       "      <th>Product_Category_1</th>\n",
       "      <th>Product_Category_2</th>\n",
       "      <th>Product_Category_3</th>\n",
       "      <th>Purchase</th>\n",
       "    </tr>\n",
       "  </thead>\n",
       "  <tbody>\n",
       "    <tr>\n",
       "      <th>0</th>\n",
       "      <td>0</td>\n",
       "      <td>P00069042</td>\n",
       "      <td>F</td>\n",
       "      <td>0-17</td>\n",
       "      <td>10</td>\n",
       "      <td>A</td>\n",
       "      <td>2</td>\n",
       "      <td>0</td>\n",
       "      <td>3</td>\n",
       "      <td>NaN</td>\n",
       "      <td>NaN</td>\n",
       "      <td>8370</td>\n",
       "    </tr>\n",
       "    <tr>\n",
       "      <th>1</th>\n",
       "      <td>0</td>\n",
       "      <td>P00248942</td>\n",
       "      <td>F</td>\n",
       "      <td>0-17</td>\n",
       "      <td>10</td>\n",
       "      <td>A</td>\n",
       "      <td>2</td>\n",
       "      <td>0</td>\n",
       "      <td>1</td>\n",
       "      <td>6.0</td>\n",
       "      <td>14.0</td>\n",
       "      <td>15200</td>\n",
       "    </tr>\n",
       "    <tr>\n",
       "      <th>2</th>\n",
       "      <td>0</td>\n",
       "      <td>P00087842</td>\n",
       "      <td>F</td>\n",
       "      <td>0-17</td>\n",
       "      <td>10</td>\n",
       "      <td>A</td>\n",
       "      <td>2</td>\n",
       "      <td>0</td>\n",
       "      <td>12</td>\n",
       "      <td>NaN</td>\n",
       "      <td>NaN</td>\n",
       "      <td>1422</td>\n",
       "    </tr>\n",
       "    <tr>\n",
       "      <th>3</th>\n",
       "      <td>0</td>\n",
       "      <td>P00085442</td>\n",
       "      <td>F</td>\n",
       "      <td>0-17</td>\n",
       "      <td>10</td>\n",
       "      <td>A</td>\n",
       "      <td>2</td>\n",
       "      <td>0</td>\n",
       "      <td>12</td>\n",
       "      <td>14.0</td>\n",
       "      <td>NaN</td>\n",
       "      <td>1057</td>\n",
       "    </tr>\n",
       "    <tr>\n",
       "      <th>4</th>\n",
       "      <td>1</td>\n",
       "      <td>P00285442</td>\n",
       "      <td>M</td>\n",
       "      <td>55+</td>\n",
       "      <td>16</td>\n",
       "      <td>C</td>\n",
       "      <td>4+</td>\n",
       "      <td>0</td>\n",
       "      <td>8</td>\n",
       "      <td>NaN</td>\n",
       "      <td>NaN</td>\n",
       "      <td>7969</td>\n",
       "    </tr>\n",
       "  </tbody>\n",
       "</table>\n",
       "</div>"
      ],
      "text/plain": [
       "   User_ID Product_ID Gender   Age  Occupation City_Category  \\\n",
       "0        0  P00069042      F  0-17          10             A   \n",
       "1        0  P00248942      F  0-17          10             A   \n",
       "2        0  P00087842      F  0-17          10             A   \n",
       "3        0  P00085442      F  0-17          10             A   \n",
       "4        1  P00285442      M   55+          16             C   \n",
       "\n",
       "  Stay_In_Current_City_Years  Marital_Status  Product_Category_1  \\\n",
       "0                          2               0                   3   \n",
       "1                          2               0                   1   \n",
       "2                          2               0                  12   \n",
       "3                          2               0                  12   \n",
       "4                         4+               0                   8   \n",
       "\n",
       "   Product_Category_2  Product_Category_3  Purchase  \n",
       "0                 NaN                 NaN      8370  \n",
       "1                 6.0                14.0     15200  \n",
       "2                 NaN                 NaN      1422  \n",
       "3                14.0                 NaN      1057  \n",
       "4                 NaN                 NaN      7969  "
      ]
     },
     "execution_count": 9,
     "metadata": {},
     "output_type": "execute_result"
    }
   ],
   "source": [
    "le = LabelEncoder()\n",
    "\n",
    "train_df['User_ID'] = le.fit_transform(train_df['User_ID'])\n",
    "test_df['User_ID'] = le.transform(test_df['User_ID'])\n",
    "train_df.head()"
   ]
  },
  {
   "cell_type": "code",
   "execution_count": 10,
   "metadata": {},
   "outputs": [
    {
     "data": {
      "text/plain": [
       "['P00227242',\n",
       " 'P0099542',\n",
       " 'P00306842',\n",
       " 'P00140842',\n",
       " 'P00168242',\n",
       " 'P00061642',\n",
       " 'P00270342',\n",
       " 'P00315342',\n",
       " 'P00012642',\n",
       " 'P00309842',\n",
       " 'P00056942',\n",
       " 'P00336842',\n",
       " 'P00322642',\n",
       " 'P00082142',\n",
       " 'P00105742',\n",
       " 'P00253842',\n",
       " 'P00172942',\n",
       " 'P00294942',\n",
       " 'P00156942',\n",
       " 'P00063942',\n",
       " 'P00077642',\n",
       " 'P00166542',\n",
       " 'P00042642',\n",
       " 'P00039042',\n",
       " 'P00092742',\n",
       " 'P00239542',\n",
       " 'P00312642',\n",
       " 'P00058842',\n",
       " 'P00268942',\n",
       " 'P00204642',\n",
       " 'P00030342',\n",
       " 'P00249942',\n",
       " 'P00062542',\n",
       " 'P00038942',\n",
       " 'P00074942',\n",
       " 'P00013042',\n",
       " 'P00062242',\n",
       " 'P00100242',\n",
       " 'P00359842',\n",
       " 'P00106242',\n",
       " 'P00165542',\n",
       " 'P00300142',\n",
       " 'P00322842',\n",
       " 'P00279042',\n",
       " 'P00082642',\n",
       " 'P00236842']"
      ]
     },
     "execution_count": 10,
     "metadata": {},
     "output_type": "execute_result"
    }
   ],
   "source": [
    "new_product_ids = list(set(pd.unique(test_df['Product_ID'])) - set(pd.unique(train_df['Product_ID'])))\n",
    "new_product_ids"
   ]
  },
  {
   "cell_type": "code",
   "execution_count": 11,
   "metadata": {},
   "outputs": [
    {
     "data": {
      "text/html": [
       "<div>\n",
       "<style scoped>\n",
       "    .dataframe tbody tr th:only-of-type {\n",
       "        vertical-align: middle;\n",
       "    }\n",
       "\n",
       "    .dataframe tbody tr th {\n",
       "        vertical-align: top;\n",
       "    }\n",
       "\n",
       "    .dataframe thead th {\n",
       "        text-align: right;\n",
       "    }\n",
       "</style>\n",
       "<table border=\"1\" class=\"dataframe\">\n",
       "  <thead>\n",
       "    <tr style=\"text-align: right;\">\n",
       "      <th></th>\n",
       "      <th>User_ID</th>\n",
       "      <th>Product_ID</th>\n",
       "      <th>Gender</th>\n",
       "      <th>Age</th>\n",
       "      <th>Occupation</th>\n",
       "      <th>City_Category</th>\n",
       "      <th>Stay_In_Current_City_Years</th>\n",
       "      <th>Marital_Status</th>\n",
       "      <th>Product_Category_1</th>\n",
       "      <th>Product_Category_2</th>\n",
       "      <th>Product_Category_3</th>\n",
       "      <th>Purchase</th>\n",
       "    </tr>\n",
       "  </thead>\n",
       "  <tbody>\n",
       "    <tr>\n",
       "      <th>0</th>\n",
       "      <td>0</td>\n",
       "      <td>672</td>\n",
       "      <td>F</td>\n",
       "      <td>0-17</td>\n",
       "      <td>10</td>\n",
       "      <td>A</td>\n",
       "      <td>2</td>\n",
       "      <td>0</td>\n",
       "      <td>3</td>\n",
       "      <td>NaN</td>\n",
       "      <td>NaN</td>\n",
       "      <td>8370</td>\n",
       "    </tr>\n",
       "    <tr>\n",
       "      <th>1</th>\n",
       "      <td>0</td>\n",
       "      <td>2376</td>\n",
       "      <td>F</td>\n",
       "      <td>0-17</td>\n",
       "      <td>10</td>\n",
       "      <td>A</td>\n",
       "      <td>2</td>\n",
       "      <td>0</td>\n",
       "      <td>1</td>\n",
       "      <td>6.0</td>\n",
       "      <td>14.0</td>\n",
       "      <td>15200</td>\n",
       "    </tr>\n",
       "    <tr>\n",
       "      <th>2</th>\n",
       "      <td>0</td>\n",
       "      <td>852</td>\n",
       "      <td>F</td>\n",
       "      <td>0-17</td>\n",
       "      <td>10</td>\n",
       "      <td>A</td>\n",
       "      <td>2</td>\n",
       "      <td>0</td>\n",
       "      <td>12</td>\n",
       "      <td>NaN</td>\n",
       "      <td>NaN</td>\n",
       "      <td>1422</td>\n",
       "    </tr>\n",
       "    <tr>\n",
       "      <th>3</th>\n",
       "      <td>0</td>\n",
       "      <td>828</td>\n",
       "      <td>F</td>\n",
       "      <td>0-17</td>\n",
       "      <td>10</td>\n",
       "      <td>A</td>\n",
       "      <td>2</td>\n",
       "      <td>0</td>\n",
       "      <td>12</td>\n",
       "      <td>14.0</td>\n",
       "      <td>NaN</td>\n",
       "      <td>1057</td>\n",
       "    </tr>\n",
       "    <tr>\n",
       "      <th>4</th>\n",
       "      <td>1</td>\n",
       "      <td>2734</td>\n",
       "      <td>M</td>\n",
       "      <td>55+</td>\n",
       "      <td>16</td>\n",
       "      <td>C</td>\n",
       "      <td>4+</td>\n",
       "      <td>0</td>\n",
       "      <td>8</td>\n",
       "      <td>NaN</td>\n",
       "      <td>NaN</td>\n",
       "      <td>7969</td>\n",
       "    </tr>\n",
       "  </tbody>\n",
       "</table>\n",
       "</div>"
      ],
      "text/plain": [
       "   User_ID  Product_ID Gender   Age  Occupation City_Category  \\\n",
       "0        0         672      F  0-17          10             A   \n",
       "1        0        2376      F  0-17          10             A   \n",
       "2        0         852      F  0-17          10             A   \n",
       "3        0         828      F  0-17          10             A   \n",
       "4        1        2734      M   55+          16             C   \n",
       "\n",
       "  Stay_In_Current_City_Years  Marital_Status  Product_Category_1  \\\n",
       "0                          2               0                   3   \n",
       "1                          2               0                   1   \n",
       "2                          2               0                  12   \n",
       "3                          2               0                  12   \n",
       "4                         4+               0                   8   \n",
       "\n",
       "   Product_Category_2  Product_Category_3  Purchase  \n",
       "0                 NaN                 NaN      8370  \n",
       "1                 6.0                14.0     15200  \n",
       "2                 NaN                 NaN      1422  \n",
       "3                14.0                 NaN      1057  \n",
       "4                 NaN                 NaN      7969  "
      ]
     },
     "execution_count": 11,
     "metadata": {},
     "output_type": "execute_result"
    }
   ],
   "source": [
    "le = LabelEncoder()\n",
    "train_df['Product_ID'] = le.fit_transform(train_df['Product_ID'])\n",
    "train_df.head()"
   ]
  },
  {
   "cell_type": "code",
   "execution_count": 12,
   "metadata": {},
   "outputs": [],
   "source": [
    "# Imputing missing products with -1\n",
    "test_df.loc[test_df['Product_ID'].isin(new_product_ids), 'Product_ID'] = -1\n",
    "new_product_ids.append(-1)\n",
    "\n",
    "# Labelling the rest observations using label encoder\n",
    "test_df.loc[~test_df['Product_ID'].isin(new_product_ids), \n",
    "        'Product_ID'] = le.transform(test_df.loc[~test_df['Product_ID'].isin(new_product_ids), 'Product_ID'])"
   ]
  },
  {
   "cell_type": "code",
   "execution_count": 13,
   "metadata": {},
   "outputs": [
    {
     "data": {
      "text/plain": [
       "User_ID                            0\n",
       "Product_ID                         0\n",
       "Gender                             0\n",
       "Age                                0\n",
       "Occupation                         0\n",
       "City_Category                      0\n",
       "Stay_In_Current_City_Years         0\n",
       "Marital_Status                     0\n",
       "Product_Category_1                 0\n",
       "Product_Category_2            173638\n",
       "Product_Category_3            383247\n",
       "Purchase                           0\n",
       "dtype: int64"
      ]
     },
     "execution_count": 13,
     "metadata": {},
     "output_type": "execute_result"
    }
   ],
   "source": [
    "train_df.isna().sum()"
   ]
  },
  {
   "cell_type": "code",
   "execution_count": 14,
   "metadata": {},
   "outputs": [
    {
     "data": {
      "text/plain": [
       "User_ID                            0\n",
       "Product_ID                         0\n",
       "Gender                             0\n",
       "Age                                0\n",
       "Occupation                         0\n",
       "City_Category                      0\n",
       "Stay_In_Current_City_Years         0\n",
       "Marital_Status                     0\n",
       "Product_Category_1                 0\n",
       "Product_Category_2             72344\n",
       "Product_Category_3            162562\n",
       "dtype: int64"
      ]
     },
     "execution_count": 14,
     "metadata": {},
     "output_type": "execute_result"
    }
   ],
   "source": [
    "test_df.isna().sum()"
   ]
  },
  {
   "cell_type": "markdown",
   "metadata": {},
   "source": [
    "too many missing values in Product_Category_2 and Product_Category_3"
   ]
  },
  {
   "cell_type": "code",
   "execution_count": 15,
   "metadata": {},
   "outputs": [],
   "source": [
    "train_df.drop(['Product_Category_2','Product_Category_3'],axis = 1,inplace = True)\n",
    "test_df.drop(['Product_Category_2','Product_Category_3'],axis = 1,inplace = True)"
   ]
  },
  {
   "cell_type": "code",
   "execution_count": 16,
   "metadata": {},
   "outputs": [
    {
     "data": {
      "text/plain": [
       "Index(['Gender', 'Age', 'City_Category', 'Stay_In_Current_City_Years'], dtype='object')"
      ]
     },
     "execution_count": 16,
     "metadata": {},
     "output_type": "execute_result"
    }
   ],
   "source": [
    "cat_cols_train = train_df.select_dtypes(['object']).columns\n",
    "cat_cols_train"
   ]
  },
  {
   "cell_type": "code",
   "execution_count": 17,
   "metadata": {},
   "outputs": [
    {
     "data": {
      "text/plain": [
       "Index(['Gender', 'Age', 'City_Category', 'Stay_In_Current_City_Years'], dtype='object')"
      ]
     },
     "execution_count": 17,
     "metadata": {},
     "output_type": "execute_result"
    }
   ],
   "source": [
    "cat_cols_test = test_df.select_dtypes(['object']).columns\n",
    "cat_cols_test"
   ]
  },
  {
   "cell_type": "code",
   "execution_count": 18,
   "metadata": {},
   "outputs": [],
   "source": [
    "for cols in cat_cols_train:\n",
    "    dummy_matrix = pd.get_dummies(train_df[cols],drop_first=True,prefix = cols)\n",
    "    train_df = pd.concat([train_df,dummy_matrix],axis = 1)\n",
    "    del train_df[cols]\n",
    "    \n",
    "for cols in cat_cols_test:\n",
    "    dummy_matrix = pd.get_dummies(test_df[cols],drop_first=True,prefix = cols)\n",
    "    test_df = pd.concat([test_df,dummy_matrix],axis = 1)\n",
    "    del test_df[cols]"
   ]
  },
  {
   "cell_type": "code",
   "execution_count": 19,
   "metadata": {},
   "outputs": [
    {
     "data": {
      "text/html": [
       "<div>\n",
       "<style scoped>\n",
       "    .dataframe tbody tr th:only-of-type {\n",
       "        vertical-align: middle;\n",
       "    }\n",
       "\n",
       "    .dataframe tbody tr th {\n",
       "        vertical-align: top;\n",
       "    }\n",
       "\n",
       "    .dataframe thead th {\n",
       "        text-align: right;\n",
       "    }\n",
       "</style>\n",
       "<table border=\"1\" class=\"dataframe\">\n",
       "  <thead>\n",
       "    <tr style=\"text-align: right;\">\n",
       "      <th></th>\n",
       "      <th>User_ID</th>\n",
       "      <th>Product_ID</th>\n",
       "      <th>Occupation</th>\n",
       "      <th>Marital_Status</th>\n",
       "      <th>Product_Category_1</th>\n",
       "      <th>Purchase</th>\n",
       "      <th>Gender_M</th>\n",
       "      <th>Age_18-25</th>\n",
       "      <th>Age_26-35</th>\n",
       "      <th>Age_36-45</th>\n",
       "      <th>Age_46-50</th>\n",
       "      <th>Age_51-55</th>\n",
       "      <th>Age_55+</th>\n",
       "      <th>City_Category_B</th>\n",
       "      <th>City_Category_C</th>\n",
       "      <th>Stay_In_Current_City_Years_1</th>\n",
       "      <th>Stay_In_Current_City_Years_2</th>\n",
       "      <th>Stay_In_Current_City_Years_3</th>\n",
       "      <th>Stay_In_Current_City_Years_4+</th>\n",
       "    </tr>\n",
       "  </thead>\n",
       "  <tbody>\n",
       "    <tr>\n",
       "      <th>0</th>\n",
       "      <td>0</td>\n",
       "      <td>672</td>\n",
       "      <td>10</td>\n",
       "      <td>0</td>\n",
       "      <td>3</td>\n",
       "      <td>8370</td>\n",
       "      <td>0</td>\n",
       "      <td>0</td>\n",
       "      <td>0</td>\n",
       "      <td>0</td>\n",
       "      <td>0</td>\n",
       "      <td>0</td>\n",
       "      <td>0</td>\n",
       "      <td>0</td>\n",
       "      <td>0</td>\n",
       "      <td>0</td>\n",
       "      <td>1</td>\n",
       "      <td>0</td>\n",
       "      <td>0</td>\n",
       "    </tr>\n",
       "    <tr>\n",
       "      <th>1</th>\n",
       "      <td>0</td>\n",
       "      <td>2376</td>\n",
       "      <td>10</td>\n",
       "      <td>0</td>\n",
       "      <td>1</td>\n",
       "      <td>15200</td>\n",
       "      <td>0</td>\n",
       "      <td>0</td>\n",
       "      <td>0</td>\n",
       "      <td>0</td>\n",
       "      <td>0</td>\n",
       "      <td>0</td>\n",
       "      <td>0</td>\n",
       "      <td>0</td>\n",
       "      <td>0</td>\n",
       "      <td>0</td>\n",
       "      <td>1</td>\n",
       "      <td>0</td>\n",
       "      <td>0</td>\n",
       "    </tr>\n",
       "    <tr>\n",
       "      <th>2</th>\n",
       "      <td>0</td>\n",
       "      <td>852</td>\n",
       "      <td>10</td>\n",
       "      <td>0</td>\n",
       "      <td>12</td>\n",
       "      <td>1422</td>\n",
       "      <td>0</td>\n",
       "      <td>0</td>\n",
       "      <td>0</td>\n",
       "      <td>0</td>\n",
       "      <td>0</td>\n",
       "      <td>0</td>\n",
       "      <td>0</td>\n",
       "      <td>0</td>\n",
       "      <td>0</td>\n",
       "      <td>0</td>\n",
       "      <td>1</td>\n",
       "      <td>0</td>\n",
       "      <td>0</td>\n",
       "    </tr>\n",
       "    <tr>\n",
       "      <th>3</th>\n",
       "      <td>0</td>\n",
       "      <td>828</td>\n",
       "      <td>10</td>\n",
       "      <td>0</td>\n",
       "      <td>12</td>\n",
       "      <td>1057</td>\n",
       "      <td>0</td>\n",
       "      <td>0</td>\n",
       "      <td>0</td>\n",
       "      <td>0</td>\n",
       "      <td>0</td>\n",
       "      <td>0</td>\n",
       "      <td>0</td>\n",
       "      <td>0</td>\n",
       "      <td>0</td>\n",
       "      <td>0</td>\n",
       "      <td>1</td>\n",
       "      <td>0</td>\n",
       "      <td>0</td>\n",
       "    </tr>\n",
       "    <tr>\n",
       "      <th>4</th>\n",
       "      <td>1</td>\n",
       "      <td>2734</td>\n",
       "      <td>16</td>\n",
       "      <td>0</td>\n",
       "      <td>8</td>\n",
       "      <td>7969</td>\n",
       "      <td>1</td>\n",
       "      <td>0</td>\n",
       "      <td>0</td>\n",
       "      <td>0</td>\n",
       "      <td>0</td>\n",
       "      <td>0</td>\n",
       "      <td>1</td>\n",
       "      <td>0</td>\n",
       "      <td>1</td>\n",
       "      <td>0</td>\n",
       "      <td>0</td>\n",
       "      <td>0</td>\n",
       "      <td>1</td>\n",
       "    </tr>\n",
       "  </tbody>\n",
       "</table>\n",
       "</div>"
      ],
      "text/plain": [
       "   User_ID  Product_ID  Occupation  Marital_Status  Product_Category_1  \\\n",
       "0        0         672          10               0                   3   \n",
       "1        0        2376          10               0                   1   \n",
       "2        0         852          10               0                  12   \n",
       "3        0         828          10               0                  12   \n",
       "4        1        2734          16               0                   8   \n",
       "\n",
       "   Purchase  Gender_M  Age_18-25  Age_26-35  Age_36-45  Age_46-50  Age_51-55  \\\n",
       "0      8370         0          0          0          0          0          0   \n",
       "1     15200         0          0          0          0          0          0   \n",
       "2      1422         0          0          0          0          0          0   \n",
       "3      1057         0          0          0          0          0          0   \n",
       "4      7969         1          0          0          0          0          0   \n",
       "\n",
       "   Age_55+  City_Category_B  City_Category_C  Stay_In_Current_City_Years_1  \\\n",
       "0        0                0                0                             0   \n",
       "1        0                0                0                             0   \n",
       "2        0                0                0                             0   \n",
       "3        0                0                0                             0   \n",
       "4        1                0                1                             0   \n",
       "\n",
       "   Stay_In_Current_City_Years_2  Stay_In_Current_City_Years_3  \\\n",
       "0                             1                             0   \n",
       "1                             1                             0   \n",
       "2                             1                             0   \n",
       "3                             1                             0   \n",
       "4                             0                             0   \n",
       "\n",
       "   Stay_In_Current_City_Years_4+  \n",
       "0                              0  \n",
       "1                              0  \n",
       "2                              0  \n",
       "3                              0  \n",
       "4                              1  "
      ]
     },
     "execution_count": 19,
     "metadata": {},
     "output_type": "execute_result"
    }
   ],
   "source": [
    "train_df.head()"
   ]
  },
  {
   "cell_type": "code",
   "execution_count": 20,
   "metadata": {},
   "outputs": [
    {
     "data": {
      "text/html": [
       "<div>\n",
       "<style scoped>\n",
       "    .dataframe tbody tr th:only-of-type {\n",
       "        vertical-align: middle;\n",
       "    }\n",
       "\n",
       "    .dataframe tbody tr th {\n",
       "        vertical-align: top;\n",
       "    }\n",
       "\n",
       "    .dataframe thead th {\n",
       "        text-align: right;\n",
       "    }\n",
       "</style>\n",
       "<table border=\"1\" class=\"dataframe\">\n",
       "  <thead>\n",
       "    <tr style=\"text-align: right;\">\n",
       "      <th></th>\n",
       "      <th>User_ID</th>\n",
       "      <th>Product_ID</th>\n",
       "      <th>Occupation</th>\n",
       "      <th>Marital_Status</th>\n",
       "      <th>Product_Category_1</th>\n",
       "      <th>Gender_M</th>\n",
       "      <th>Age_18-25</th>\n",
       "      <th>Age_26-35</th>\n",
       "      <th>Age_36-45</th>\n",
       "      <th>Age_46-50</th>\n",
       "      <th>Age_51-55</th>\n",
       "      <th>Age_55+</th>\n",
       "      <th>City_Category_B</th>\n",
       "      <th>City_Category_C</th>\n",
       "      <th>Stay_In_Current_City_Years_1</th>\n",
       "      <th>Stay_In_Current_City_Years_2</th>\n",
       "      <th>Stay_In_Current_City_Years_3</th>\n",
       "      <th>Stay_In_Current_City_Years_4+</th>\n",
       "    </tr>\n",
       "  </thead>\n",
       "  <tbody>\n",
       "    <tr>\n",
       "      <th>0</th>\n",
       "      <td>3</td>\n",
       "      <td>1196</td>\n",
       "      <td>7</td>\n",
       "      <td>1</td>\n",
       "      <td>1</td>\n",
       "      <td>1</td>\n",
       "      <td>0</td>\n",
       "      <td>0</td>\n",
       "      <td>0</td>\n",
       "      <td>1</td>\n",
       "      <td>0</td>\n",
       "      <td>0</td>\n",
       "      <td>1</td>\n",
       "      <td>0</td>\n",
       "      <td>0</td>\n",
       "      <td>1</td>\n",
       "      <td>0</td>\n",
       "      <td>0</td>\n",
       "    </tr>\n",
       "    <tr>\n",
       "      <th>1</th>\n",
       "      <td>8</td>\n",
       "      <td>1043</td>\n",
       "      <td>17</td>\n",
       "      <td>0</td>\n",
       "      <td>3</td>\n",
       "      <td>1</td>\n",
       "      <td>0</td>\n",
       "      <td>1</td>\n",
       "      <td>0</td>\n",
       "      <td>0</td>\n",
       "      <td>0</td>\n",
       "      <td>0</td>\n",
       "      <td>0</td>\n",
       "      <td>1</td>\n",
       "      <td>0</td>\n",
       "      <td>0</td>\n",
       "      <td>0</td>\n",
       "      <td>0</td>\n",
       "    </tr>\n",
       "    <tr>\n",
       "      <th>2</th>\n",
       "      <td>9</td>\n",
       "      <td>2764</td>\n",
       "      <td>1</td>\n",
       "      <td>1</td>\n",
       "      <td>5</td>\n",
       "      <td>0</td>\n",
       "      <td>0</td>\n",
       "      <td>0</td>\n",
       "      <td>1</td>\n",
       "      <td>0</td>\n",
       "      <td>0</td>\n",
       "      <td>0</td>\n",
       "      <td>1</td>\n",
       "      <td>0</td>\n",
       "      <td>0</td>\n",
       "      <td>0</td>\n",
       "      <td>0</td>\n",
       "      <td>1</td>\n",
       "    </tr>\n",
       "    <tr>\n",
       "      <th>3</th>\n",
       "      <td>9</td>\n",
       "      <td>1358</td>\n",
       "      <td>1</td>\n",
       "      <td>1</td>\n",
       "      <td>4</td>\n",
       "      <td>0</td>\n",
       "      <td>0</td>\n",
       "      <td>0</td>\n",
       "      <td>1</td>\n",
       "      <td>0</td>\n",
       "      <td>0</td>\n",
       "      <td>0</td>\n",
       "      <td>1</td>\n",
       "      <td>0</td>\n",
       "      <td>0</td>\n",
       "      <td>0</td>\n",
       "      <td>0</td>\n",
       "      <td>1</td>\n",
       "    </tr>\n",
       "    <tr>\n",
       "      <th>4</th>\n",
       "      <td>10</td>\n",
       "      <td>529</td>\n",
       "      <td>1</td>\n",
       "      <td>0</td>\n",
       "      <td>4</td>\n",
       "      <td>0</td>\n",
       "      <td>0</td>\n",
       "      <td>1</td>\n",
       "      <td>0</td>\n",
       "      <td>0</td>\n",
       "      <td>0</td>\n",
       "      <td>0</td>\n",
       "      <td>0</td>\n",
       "      <td>1</td>\n",
       "      <td>1</td>\n",
       "      <td>0</td>\n",
       "      <td>0</td>\n",
       "      <td>0</td>\n",
       "    </tr>\n",
       "  </tbody>\n",
       "</table>\n",
       "</div>"
      ],
      "text/plain": [
       "   User_ID  Product_ID  Occupation  Marital_Status  Product_Category_1  \\\n",
       "0        3        1196           7               1                   1   \n",
       "1        8        1043          17               0                   3   \n",
       "2        9        2764           1               1                   5   \n",
       "3        9        1358           1               1                   4   \n",
       "4       10         529           1               0                   4   \n",
       "\n",
       "   Gender_M  Age_18-25  Age_26-35  Age_36-45  Age_46-50  Age_51-55  Age_55+  \\\n",
       "0         1          0          0          0          1          0        0   \n",
       "1         1          0          1          0          0          0        0   \n",
       "2         0          0          0          1          0          0        0   \n",
       "3         0          0          0          1          0          0        0   \n",
       "4         0          0          1          0          0          0        0   \n",
       "\n",
       "   City_Category_B  City_Category_C  Stay_In_Current_City_Years_1  \\\n",
       "0                1                0                             0   \n",
       "1                0                1                             0   \n",
       "2                1                0                             0   \n",
       "3                1                0                             0   \n",
       "4                0                1                             1   \n",
       "\n",
       "   Stay_In_Current_City_Years_2  Stay_In_Current_City_Years_3  \\\n",
       "0                             1                             0   \n",
       "1                             0                             0   \n",
       "2                             0                             0   \n",
       "3                             0                             0   \n",
       "4                             0                             0   \n",
       "\n",
       "   Stay_In_Current_City_Years_4+  \n",
       "0                              0  \n",
       "1                              0  \n",
       "2                              1  \n",
       "3                              1  \n",
       "4                              0  "
      ]
     },
     "execution_count": 20,
     "metadata": {},
     "output_type": "execute_result"
    }
   ],
   "source": [
    "test_df.head()"
   ]
  },
  {
   "cell_type": "code",
   "execution_count": 21,
   "metadata": {},
   "outputs": [
    {
     "data": {
      "text/plain": [
       "User_ID                          0\n",
       "Product_ID                       0\n",
       "Occupation                       0\n",
       "Marital_Status                   0\n",
       "Product_Category_1               0\n",
       "Purchase                         0\n",
       "Gender_M                         0\n",
       "Age_18-25                        0\n",
       "Age_26-35                        0\n",
       "Age_36-45                        0\n",
       "Age_46-50                        0\n",
       "Age_51-55                        0\n",
       "Age_55+                          0\n",
       "City_Category_B                  0\n",
       "City_Category_C                  0\n",
       "Stay_In_Current_City_Years_1     0\n",
       "Stay_In_Current_City_Years_2     0\n",
       "Stay_In_Current_City_Years_3     0\n",
       "Stay_In_Current_City_Years_4+    0\n",
       "dtype: int64"
      ]
     },
     "execution_count": 21,
     "metadata": {},
     "output_type": "execute_result"
    }
   ],
   "source": [
    "train_df.isna().sum()"
   ]
  },
  {
   "cell_type": "code",
   "execution_count": 22,
   "metadata": {},
   "outputs": [
    {
     "data": {
      "text/plain": [
       "User_ID                          0\n",
       "Product_ID                       0\n",
       "Occupation                       0\n",
       "Marital_Status                   0\n",
       "Product_Category_1               0\n",
       "Gender_M                         0\n",
       "Age_18-25                        0\n",
       "Age_26-35                        0\n",
       "Age_36-45                        0\n",
       "Age_46-50                        0\n",
       "Age_51-55                        0\n",
       "Age_55+                          0\n",
       "City_Category_B                  0\n",
       "City_Category_C                  0\n",
       "Stay_In_Current_City_Years_1     0\n",
       "Stay_In_Current_City_Years_2     0\n",
       "Stay_In_Current_City_Years_3     0\n",
       "Stay_In_Current_City_Years_4+    0\n",
       "dtype: int64"
      ]
     },
     "execution_count": 22,
     "metadata": {},
     "output_type": "execute_result"
    }
   ],
   "source": [
    "test_df.isna().sum()"
   ]
  },
  {
   "cell_type": "code",
   "execution_count": 23,
   "metadata": {},
   "outputs": [],
   "source": [
    "X_train = train_df.drop(['Purchase'],axis = 1)\n",
    "Y_train = train_df['Purchase']"
   ]
  },
  {
   "cell_type": "code",
   "execution_count": 24,
   "metadata": {},
   "outputs": [],
   "source": [
    "from sklearn.model_selection import train_test_split\n",
    "train_df_train,train_df_test = train_test_split(train_df,test_size = 0.2,random_state = 42)\n",
    "x_train = train_df_train.drop(['Purchase'],axis = 1)\n",
    "y_train = train_df_train['Purchase']\n",
    "\n",
    "x_test = train_df_test.drop(['Purchase'],axis = 1)\n",
    "y_test = train_df_test['Purchase']"
   ]
  },
  {
   "cell_type": "code",
   "execution_count": 25,
   "metadata": {},
   "outputs": [
    {
     "data": {
      "text/plain": [
       "12"
      ]
     },
     "execution_count": 25,
     "metadata": {},
     "output_type": "execute_result"
    }
   ],
   "source": [
    "Y_train.min()"
   ]
  },
  {
   "cell_type": "markdown",
   "metadata": {},
   "source": [
    "# Simple linear regression"
   ]
  },
  {
   "cell_type": "code",
   "execution_count": 26,
   "metadata": {},
   "outputs": [
    {
     "data": {
      "text/plain": [
       "LinearRegression(copy_X=True, fit_intercept=True, n_jobs=None,\n",
       "         normalize=False)"
      ]
     },
     "execution_count": 26,
     "metadata": {},
     "output_type": "execute_result"
    }
   ],
   "source": [
    "from sklearn.linear_model import LinearRegression\n",
    "lm = LinearRegression()\n",
    "lm.fit(x_train,y_train)"
   ]
  },
  {
   "cell_type": "code",
   "execution_count": 27,
   "metadata": {},
   "outputs": [],
   "source": [
    "p_test = lm.predict(x_test)"
   ]
  },
  {
   "cell_type": "code",
   "execution_count": 28,
   "metadata": {},
   "outputs": [
    {
     "name": "stdout",
     "output_type": "stream",
     "text": [
      "Tentative RMSE linear regression: 4671.043665431294\n"
     ]
    }
   ],
   "source": [
    "rmse_lm = np.sqrt(np.mean((y_test-p_test)**2))\n",
    "print('Tentative RMSE linear regression: {}'.format(rmse_lm))"
   ]
  },
  {
   "cell_type": "code",
   "execution_count": 29,
   "metadata": {},
   "outputs": [],
   "source": [
    "# Building model on entire data\n",
    "\n",
    "lm.fit(X_train,Y_train)\n",
    "submit['Purchase'] = lm.predict(test_df)"
   ]
  },
  {
   "cell_type": "code",
   "execution_count": 30,
   "metadata": {},
   "outputs": [],
   "source": [
    "submit.to_csv('Nazira_Black_friday_sales_prediction.csv',index = False)"
   ]
  },
  {
   "cell_type": "markdown",
   "metadata": {},
   "source": [
    "# Lasso based model"
   ]
  },
  {
   "cell_type": "code",
   "execution_count": 31,
   "metadata": {},
   "outputs": [],
   "source": [
    "from sklearn.linear_model import Lasso\n",
    "from sklearn.model_selection import RandomizedSearchCV\n",
    "from sklearn.metrics import mean_absolute_error"
   ]
  },
  {
   "cell_type": "code",
   "execution_count": 34,
   "metadata": {},
   "outputs": [],
   "source": [
    "params = {'alpha' : np.linspace(0.01,10,100)}\n",
    "model = Lasso(fit_intercept = True)\n",
    "random_search = RandomizedSearchCV(model,param_distributions=params,cv = 10,scoring = 'neg_mean_absolute_error',\n",
    "                                   n_iter=20,n_jobs = -1,verbose=20,random_state = 42)"
   ]
  },
  {
   "cell_type": "code",
   "execution_count": 35,
   "metadata": {},
   "outputs": [
    {
     "name": "stdout",
     "output_type": "stream",
     "text": [
      "Fitting 10 folds for each of 20 candidates, totalling 200 fits\n"
     ]
    },
    {
     "name": "stderr",
     "output_type": "stream",
     "text": [
      "[Parallel(n_jobs=-1)]: Using backend LokyBackend with 4 concurrent workers.\n",
      "[Parallel(n_jobs=-1)]: Done   1 tasks      | elapsed:  1.2min\n",
      "[Parallel(n_jobs=-1)]: Done   2 tasks      | elapsed:  1.2min\n",
      "[Parallel(n_jobs=-1)]: Done   3 tasks      | elapsed:  1.2min\n",
      "[Parallel(n_jobs=-1)]: Done   4 tasks      | elapsed:  1.2min\n",
      "[Parallel(n_jobs=-1)]: Done   5 tasks      | elapsed:  1.2min\n",
      "[Parallel(n_jobs=-1)]: Done   6 tasks      | elapsed:  1.2min\n",
      "[Parallel(n_jobs=-1)]: Done   7 tasks      | elapsed:  1.2min\n",
      "[Parallel(n_jobs=-1)]: Done   8 tasks      | elapsed:  1.2min\n",
      "[Parallel(n_jobs=-1)]: Done   9 tasks      | elapsed:  1.2min\n",
      "[Parallel(n_jobs=-1)]: Done  10 tasks      | elapsed:  1.2min\n",
      "[Parallel(n_jobs=-1)]: Done  11 tasks      | elapsed:  1.2min\n",
      "[Parallel(n_jobs=-1)]: Done  12 tasks      | elapsed:  1.2min\n",
      "[Parallel(n_jobs=-1)]: Done  13 tasks      | elapsed:  1.3min\n",
      "[Parallel(n_jobs=-1)]: Done  14 tasks      | elapsed:  1.3min\n",
      "[Parallel(n_jobs=-1)]: Done  15 tasks      | elapsed:  1.3min\n",
      "[Parallel(n_jobs=-1)]: Done  16 tasks      | elapsed:  1.3min\n",
      "[Parallel(n_jobs=-1)]: Done  17 tasks      | elapsed:  1.3min\n",
      "[Parallel(n_jobs=-1)]: Done  18 tasks      | elapsed:  1.3min\n",
      "[Parallel(n_jobs=-1)]: Done  19 tasks      | elapsed:  1.3min\n",
      "[Parallel(n_jobs=-1)]: Done  20 tasks      | elapsed:  1.4min\n",
      "[Parallel(n_jobs=-1)]: Done  21 tasks      | elapsed:  1.4min\n",
      "[Parallel(n_jobs=-1)]: Done  22 tasks      | elapsed:  1.4min\n",
      "[Parallel(n_jobs=-1)]: Done  23 tasks      | elapsed:  1.4min\n",
      "[Parallel(n_jobs=-1)]: Done  24 tasks      | elapsed:  1.4min\n",
      "[Parallel(n_jobs=-1)]: Done  25 tasks      | elapsed:  1.4min\n",
      "[Parallel(n_jobs=-1)]: Done  26 tasks      | elapsed:  1.4min\n",
      "[Parallel(n_jobs=-1)]: Done  27 tasks      | elapsed:  1.4min\n",
      "[Parallel(n_jobs=-1)]: Done  28 tasks      | elapsed:  1.4min\n",
      "[Parallel(n_jobs=-1)]: Done  29 tasks      | elapsed:  1.5min\n",
      "[Parallel(n_jobs=-1)]: Done  30 tasks      | elapsed:  1.5min\n",
      "[Parallel(n_jobs=-1)]: Done  31 tasks      | elapsed:  1.5min\n",
      "[Parallel(n_jobs=-1)]: Done  32 tasks      | elapsed:  1.5min\n",
      "[Parallel(n_jobs=-1)]: Done  33 tasks      | elapsed:  1.5min\n",
      "[Parallel(n_jobs=-1)]: Done  34 tasks      | elapsed:  1.5min\n",
      "[Parallel(n_jobs=-1)]: Done  35 tasks      | elapsed:  1.5min\n",
      "[Parallel(n_jobs=-1)]: Done  36 tasks      | elapsed:  1.5min\n",
      "[Parallel(n_jobs=-1)]: Done  37 tasks      | elapsed:  1.6min\n",
      "[Parallel(n_jobs=-1)]: Done  38 tasks      | elapsed:  1.6min\n",
      "[Parallel(n_jobs=-1)]: Done  39 tasks      | elapsed:  1.6min\n",
      "[Parallel(n_jobs=-1)]: Done  40 tasks      | elapsed:  1.6min\n",
      "[Parallel(n_jobs=-1)]: Done  41 tasks      | elapsed:  1.6min\n",
      "[Parallel(n_jobs=-1)]: Done  42 tasks      | elapsed:  1.6min\n",
      "[Parallel(n_jobs=-1)]: Done  43 tasks      | elapsed:  1.6min\n",
      "[Parallel(n_jobs=-1)]: Done  44 tasks      | elapsed:  1.6min\n",
      "[Parallel(n_jobs=-1)]: Done  45 tasks      | elapsed:  1.7min\n",
      "[Parallel(n_jobs=-1)]: Done  46 tasks      | elapsed:  1.7min\n",
      "[Parallel(n_jobs=-1)]: Done  47 tasks      | elapsed:  1.7min\n",
      "[Parallel(n_jobs=-1)]: Done  48 tasks      | elapsed:  1.7min\n",
      "[Parallel(n_jobs=-1)]: Done  49 tasks      | elapsed:  1.7min\n",
      "[Parallel(n_jobs=-1)]: Done  50 tasks      | elapsed:  1.7min\n",
      "[Parallel(n_jobs=-1)]: Done  51 tasks      | elapsed:  1.7min\n",
      "[Parallel(n_jobs=-1)]: Done  52 tasks      | elapsed:  1.7min\n",
      "[Parallel(n_jobs=-1)]: Done  53 tasks      | elapsed:  1.8min\n",
      "[Parallel(n_jobs=-1)]: Done  54 tasks      | elapsed:  1.8min\n",
      "[Parallel(n_jobs=-1)]: Done  55 tasks      | elapsed:  1.8min\n",
      "[Parallel(n_jobs=-1)]: Done  56 tasks      | elapsed:  1.8min\n",
      "[Parallel(n_jobs=-1)]: Done  57 tasks      | elapsed:  1.8min\n",
      "[Parallel(n_jobs=-1)]: Done  58 tasks      | elapsed:  1.8min\n",
      "[Parallel(n_jobs=-1)]: Done  59 tasks      | elapsed:  1.8min\n",
      "[Parallel(n_jobs=-1)]: Done  60 tasks      | elapsed:  1.8min\n",
      "[Parallel(n_jobs=-1)]: Done  61 tasks      | elapsed:  2.0min\n",
      "[Parallel(n_jobs=-1)]: Done  62 tasks      | elapsed:  2.0min\n",
      "[Parallel(n_jobs=-1)]: Done  63 tasks      | elapsed:  2.0min\n",
      "[Parallel(n_jobs=-1)]: Done  64 tasks      | elapsed:  2.0min\n",
      "[Parallel(n_jobs=-1)]: Done  65 tasks      | elapsed:  2.2min\n",
      "[Parallel(n_jobs=-1)]: Done  66 tasks      | elapsed:  2.2min\n",
      "[Parallel(n_jobs=-1)]: Done  67 tasks      | elapsed:  2.2min\n",
      "[Parallel(n_jobs=-1)]: Done  68 tasks      | elapsed:  2.2min\n",
      "[Parallel(n_jobs=-1)]: Done  69 tasks      | elapsed:  2.3min\n",
      "[Parallel(n_jobs=-1)]: Done  70 tasks      | elapsed:  2.3min\n",
      "[Parallel(n_jobs=-1)]: Done  71 tasks      | elapsed:  2.3min\n",
      "[Parallel(n_jobs=-1)]: Done  72 tasks      | elapsed:  2.4min\n",
      "[Parallel(n_jobs=-1)]: Done  73 tasks      | elapsed:  2.4min\n",
      "[Parallel(n_jobs=-1)]: Done  74 tasks      | elapsed:  2.4min\n",
      "[Parallel(n_jobs=-1)]: Done  75 tasks      | elapsed:  2.4min\n",
      "[Parallel(n_jobs=-1)]: Done  76 tasks      | elapsed:  2.4min\n",
      "[Parallel(n_jobs=-1)]: Done  77 tasks      | elapsed:  2.4min\n",
      "[Parallel(n_jobs=-1)]: Done  78 tasks      | elapsed:  2.5min\n",
      "[Parallel(n_jobs=-1)]: Done  79 tasks      | elapsed:  2.5min\n",
      "[Parallel(n_jobs=-1)]: Done  80 tasks      | elapsed:  2.5min\n",
      "[Parallel(n_jobs=-1)]: Done  81 tasks      | elapsed:  2.7min\n",
      "[Parallel(n_jobs=-1)]: Done  82 tasks      | elapsed:  2.7min\n",
      "[Parallel(n_jobs=-1)]: Done  83 tasks      | elapsed:  2.7min\n",
      "[Parallel(n_jobs=-1)]: Done  84 tasks      | elapsed:  2.7min\n",
      "[Parallel(n_jobs=-1)]: Done  85 tasks      | elapsed:  2.9min\n",
      "[Parallel(n_jobs=-1)]: Done  86 tasks      | elapsed:  3.0min\n",
      "[Parallel(n_jobs=-1)]: Done  87 tasks      | elapsed:  3.0min\n",
      "[Parallel(n_jobs=-1)]: Done  88 tasks      | elapsed:  3.0min\n",
      "[Parallel(n_jobs=-1)]: Done  89 tasks      | elapsed:  3.2min\n",
      "[Parallel(n_jobs=-1)]: Done  90 tasks      | elapsed:  3.2min\n",
      "[Parallel(n_jobs=-1)]: Done  91 tasks      | elapsed:  3.5min\n",
      "[Parallel(n_jobs=-1)]: Done  92 tasks      | elapsed:  3.5min\n",
      "[Parallel(n_jobs=-1)]: Done  93 tasks      | elapsed:  3.7min\n",
      "[Parallel(n_jobs=-1)]: Done  94 tasks      | elapsed:  3.8min\n",
      "[Parallel(n_jobs=-1)]: Done  95 tasks      | elapsed:  4.0min\n",
      "[Parallel(n_jobs=-1)]: Done  96 tasks      | elapsed:  4.0min\n",
      "[Parallel(n_jobs=-1)]: Done  97 tasks      | elapsed:  4.2min\n",
      "[Parallel(n_jobs=-1)]: Done  98 tasks      | elapsed:  4.3min\n",
      "[Parallel(n_jobs=-1)]: Done  99 tasks      | elapsed:  4.3min\n",
      "[Parallel(n_jobs=-1)]: Done 100 tasks      | elapsed:  4.4min\n",
      "[Parallel(n_jobs=-1)]: Done 101 tasks      | elapsed:  4.4min\n",
      "[Parallel(n_jobs=-1)]: Done 102 tasks      | elapsed:  4.5min\n",
      "[Parallel(n_jobs=-1)]: Done 103 tasks      | elapsed:  4.5min\n",
      "[Parallel(n_jobs=-1)]: Done 104 tasks      | elapsed:  4.5min\n",
      "[Parallel(n_jobs=-1)]: Done 105 tasks      | elapsed:  4.6min\n",
      "[Parallel(n_jobs=-1)]: Done 106 tasks      | elapsed:  4.6min\n",
      "[Parallel(n_jobs=-1)]: Done 107 tasks      | elapsed:  4.6min\n",
      "[Parallel(n_jobs=-1)]: Done 108 tasks      | elapsed:  4.7min\n",
      "[Parallel(n_jobs=-1)]: Done 109 tasks      | elapsed:  4.7min\n",
      "[Parallel(n_jobs=-1)]: Done 110 tasks      | elapsed:  4.8min\n",
      "[Parallel(n_jobs=-1)]: Done 111 tasks      | elapsed:  4.8min\n",
      "[Parallel(n_jobs=-1)]: Done 112 tasks      | elapsed:  4.9min\n",
      "[Parallel(n_jobs=-1)]: Done 113 tasks      | elapsed:  4.9min\n",
      "[Parallel(n_jobs=-1)]: Done 114 tasks      | elapsed:  5.0min\n",
      "[Parallel(n_jobs=-1)]: Done 115 tasks      | elapsed:  5.0min\n",
      "[Parallel(n_jobs=-1)]: Done 116 tasks      | elapsed:  5.1min\n",
      "[Parallel(n_jobs=-1)]: Done 117 tasks      | elapsed:  5.1min\n",
      "[Parallel(n_jobs=-1)]: Done 118 tasks      | elapsed:  5.1min\n",
      "[Parallel(n_jobs=-1)]: Done 119 tasks      | elapsed:  5.1min\n",
      "[Parallel(n_jobs=-1)]: Done 120 tasks      | elapsed:  5.2min\n",
      "[Parallel(n_jobs=-1)]: Done 121 tasks      | elapsed:  5.2min\n",
      "[Parallel(n_jobs=-1)]: Done 122 tasks      | elapsed:  5.2min\n",
      "[Parallel(n_jobs=-1)]: Done 123 tasks      | elapsed:  5.2min\n",
      "[Parallel(n_jobs=-1)]: Done 124 tasks      | elapsed:  5.2min\n",
      "[Parallel(n_jobs=-1)]: Done 125 tasks      | elapsed:  5.2min\n",
      "[Parallel(n_jobs=-1)]: Done 126 tasks      | elapsed:  5.2min\n",
      "[Parallel(n_jobs=-1)]: Done 127 tasks      | elapsed:  5.3min\n",
      "[Parallel(n_jobs=-1)]: Done 128 tasks      | elapsed:  5.3min\n",
      "[Parallel(n_jobs=-1)]: Done 129 tasks      | elapsed:  5.3min\n",
      "[Parallel(n_jobs=-1)]: Done 130 tasks      | elapsed:  5.3min\n",
      "[Parallel(n_jobs=-1)]: Done 131 tasks      | elapsed:  5.3min\n"
     ]
    },
    {
     "name": "stderr",
     "output_type": "stream",
     "text": [
      "[Parallel(n_jobs=-1)]: Done 132 tasks      | elapsed:  5.4min\n",
      "[Parallel(n_jobs=-1)]: Done 133 tasks      | elapsed:  5.4min\n",
      "[Parallel(n_jobs=-1)]: Done 134 tasks      | elapsed:  5.4min\n",
      "[Parallel(n_jobs=-1)]: Done 135 tasks      | elapsed:  5.4min\n",
      "[Parallel(n_jobs=-1)]: Done 136 tasks      | elapsed:  5.5min\n",
      "[Parallel(n_jobs=-1)]: Done 137 tasks      | elapsed:  5.5min\n",
      "[Parallel(n_jobs=-1)]: Done 138 tasks      | elapsed:  5.5min\n",
      "[Parallel(n_jobs=-1)]: Done 139 tasks      | elapsed:  5.6min\n",
      "[Parallel(n_jobs=-1)]: Done 140 tasks      | elapsed:  5.6min\n",
      "[Parallel(n_jobs=-1)]: Done 141 tasks      | elapsed:  5.6min\n",
      "[Parallel(n_jobs=-1)]: Done 142 tasks      | elapsed:  5.6min\n",
      "[Parallel(n_jobs=-1)]: Done 143 tasks      | elapsed:  5.6min\n",
      "[Parallel(n_jobs=-1)]: Done 144 tasks      | elapsed:  5.6min\n",
      "[Parallel(n_jobs=-1)]: Done 145 tasks      | elapsed:  5.6min\n",
      "[Parallel(n_jobs=-1)]: Done 146 tasks      | elapsed:  5.6min\n",
      "[Parallel(n_jobs=-1)]: Done 147 tasks      | elapsed:  5.7min\n",
      "[Parallel(n_jobs=-1)]: Done 148 tasks      | elapsed:  5.7min\n",
      "[Parallel(n_jobs=-1)]: Done 149 tasks      | elapsed:  5.7min\n",
      "[Parallel(n_jobs=-1)]: Done 150 tasks      | elapsed:  5.7min\n",
      "[Parallel(n_jobs=-1)]: Done 151 tasks      | elapsed:  6.0min\n",
      "[Parallel(n_jobs=-1)]: Done 152 tasks      | elapsed:  6.0min\n",
      "[Parallel(n_jobs=-1)]: Done 153 tasks      | elapsed:  6.0min\n",
      "[Parallel(n_jobs=-1)]: Done 154 tasks      | elapsed:  6.0min\n",
      "[Parallel(n_jobs=-1)]: Done 155 tasks      | elapsed:  6.3min\n",
      "[Parallel(n_jobs=-1)]: Done 156 tasks      | elapsed:  6.3min\n",
      "[Parallel(n_jobs=-1)]: Done 157 tasks      | elapsed:  6.3min\n",
      "[Parallel(n_jobs=-1)]: Done 158 tasks      | elapsed:  6.3min\n",
      "[Parallel(n_jobs=-1)]: Done 159 tasks      | elapsed:  6.4min\n",
      "[Parallel(n_jobs=-1)]: Done 160 tasks      | elapsed:  6.4min\n",
      "[Parallel(n_jobs=-1)]: Done 161 tasks      | elapsed:  6.5min\n",
      "[Parallel(n_jobs=-1)]: Done 162 tasks      | elapsed:  6.5min\n",
      "[Parallel(n_jobs=-1)]: Done 163 tasks      | elapsed:  6.5min\n",
      "[Parallel(n_jobs=-1)]: Done 164 tasks      | elapsed:  6.5min\n",
      "[Parallel(n_jobs=-1)]: Done 165 tasks      | elapsed:  6.6min\n",
      "[Parallel(n_jobs=-1)]: Done 166 tasks      | elapsed:  6.6min\n",
      "[Parallel(n_jobs=-1)]: Done 167 tasks      | elapsed:  6.6min\n",
      "[Parallel(n_jobs=-1)]: Done 168 tasks      | elapsed:  6.6min\n",
      "[Parallel(n_jobs=-1)]: Done 169 tasks      | elapsed:  6.6min\n",
      "[Parallel(n_jobs=-1)]: Done 170 tasks      | elapsed:  6.6min\n",
      "[Parallel(n_jobs=-1)]: Done 171 tasks      | elapsed:  6.6min\n",
      "[Parallel(n_jobs=-1)]: Done 172 tasks      | elapsed:  6.6min\n",
      "[Parallel(n_jobs=-1)]: Done 173 tasks      | elapsed:  6.7min\n",
      "[Parallel(n_jobs=-1)]: Done 174 tasks      | elapsed:  6.7min\n",
      "[Parallel(n_jobs=-1)]: Done 175 tasks      | elapsed:  6.7min\n",
      "[Parallel(n_jobs=-1)]: Done 176 tasks      | elapsed:  6.7min\n",
      "[Parallel(n_jobs=-1)]: Done 177 tasks      | elapsed:  6.7min\n",
      "[Parallel(n_jobs=-1)]: Done 178 tasks      | elapsed:  6.7min\n",
      "[Parallel(n_jobs=-1)]: Done 179 tasks      | elapsed:  6.7min\n",
      "[Parallel(n_jobs=-1)]: Done 180 tasks      | elapsed:  6.7min\n",
      "[Parallel(n_jobs=-1)]: Done 181 tasks      | elapsed:  6.9min\n",
      "[Parallel(n_jobs=-1)]: Done 182 tasks      | elapsed:  6.9min\n",
      "[Parallel(n_jobs=-1)]: Done 183 tasks      | elapsed:  6.9min\n",
      "[Parallel(n_jobs=-1)]: Done 184 tasks      | elapsed:  7.0min\n",
      "[Parallel(n_jobs=-1)]: Done 185 tasks      | elapsed:  7.1min\n",
      "[Parallel(n_jobs=-1)]: Done 186 tasks      | elapsed:  7.2min\n",
      "[Parallel(n_jobs=-1)]: Done 187 tasks      | elapsed:  7.2min\n",
      "[Parallel(n_jobs=-1)]: Done 188 tasks      | elapsed:  7.2min\n",
      "[Parallel(n_jobs=-1)]: Done 189 tasks      | elapsed:  7.4min\n",
      "[Parallel(n_jobs=-1)]: Done 190 tasks      | elapsed:  7.4min\n",
      "[Parallel(n_jobs=-1)]: Done 191 tasks      | elapsed:  7.4min\n",
      "[Parallel(n_jobs=-1)]: Done 192 tasks      | elapsed:  7.4min\n",
      "[Parallel(n_jobs=-1)]: Done 193 tasks      | elapsed:  7.5min\n",
      "[Parallel(n_jobs=-1)]: Done 200 out of 200 | elapsed:  7.7min finished\n"
     ]
    },
    {
     "name": "stdout",
     "output_type": "stream",
     "text": [
      "Time required: 468.55037021636963\n"
     ]
    }
   ],
   "source": [
    "import time\n",
    "start = time.time()\n",
    "random_search.fit(x_train,y_train)\n",
    "end = time.time()\n",
    "print(\"Time required: {}\".format(end-start))"
   ]
  },
  {
   "cell_type": "code",
   "execution_count": 36,
   "metadata": {},
   "outputs": [
    {
     "data": {
      "text/plain": [
       "Lasso(alpha=2.2299999999999995, copy_X=True, fit_intercept=True,\n",
       "   max_iter=1000, normalize=False, positive=False, precompute=False,\n",
       "   random_state=None, selection='cyclic', tol=0.0001, warm_start=False)"
      ]
     },
     "execution_count": 36,
     "metadata": {},
     "output_type": "execute_result"
    }
   ],
   "source": [
    "random_search.best_estimator_"
   ]
  },
  {
   "cell_type": "code",
   "execution_count": 41,
   "metadata": {},
   "outputs": [
    {
     "name": "stdout",
     "output_type": "stream",
     "text": [
      "Model with rank: 1\n",
      "Mean validation score: -3587.82843 (std: 18.647)\n",
      "Parameters: {'alpha': 2.2299999999999995}\n",
      "\n",
      "Model with rank: 2\n",
      "Mean validation score: -3587.83874 (std: 18.675)\n",
      "Parameters: {'alpha': 1.8263636363636364}\n",
      "\n",
      "Model with rank: 3\n",
      "Mean validation score: -3587.84752 (std: 18.753)\n",
      "Parameters: {'alpha': 1.019090909090909}\n",
      "\n",
      "Model with rank: 4\n",
      "Mean validation score: -3587.85104 (std: 18.724)\n",
      "Parameters: {'alpha': 1.220909090909091}\n",
      "\n",
      "Model with rank: 5\n",
      "Mean validation score: -3587.93516 (std: 18.827)\n",
      "Parameters: {'alpha': 0.41363636363636364}\n",
      "\n"
     ]
    }
   ],
   "source": [
    "def report(results, n_top=3):\n",
    "    for i in range(1, n_top + 1):\n",
    "        candidates = np.flatnonzero(results['rank_test_score'] == i)\n",
    "        for candidate in candidates:\n",
    "            print(\"Model with rank: {0}\".format(i))\n",
    "            print(\"Mean validation score: {0:.5f} (std: {1:.3f})\".format(\n",
    "                  results['mean_test_score'][candidate],\n",
    "                  results['std_test_score'][candidate]))\n",
    "            print(\"Parameters: {0}\".format(results['params'][candidate]))\n",
    "            print(\"\")\n",
    "            \n",
    "report(random_search.cv_results_,5)"
   ]
  },
  {
   "cell_type": "code",
   "execution_count": 42,
   "metadata": {},
   "outputs": [],
   "source": [
    "p_test = random_search.predict(x_test)"
   ]
  },
  {
   "cell_type": "code",
   "execution_count": 43,
   "metadata": {},
   "outputs": [
    {
     "name": "stdout",
     "output_type": "stream",
     "text": [
      "Tentative RMSE Lasso based regression: 4671.49845083821\n"
     ]
    }
   ],
   "source": [
    "rmse_lasso = np.sqrt(np.mean((y_test-p_test)**2))\n",
    "print('Tentative RMSE Lasso based regression: {}'.format(rmse_lasso))"
   ]
  },
  {
   "cell_type": "markdown",
   "metadata": {},
   "source": [
    "# XGboost"
   ]
  },
  {
   "cell_type": "code",
   "execution_count": 28,
   "metadata": {},
   "outputs": [],
   "source": [
    "from xgboost import XGBRegressor"
   ]
  },
  {
   "cell_type": "markdown",
   "metadata": {},
   "source": [
    "```params = {'learning_rate':[0.01,0.05,0.1,0.3,0.5,0.6,0.7,0.9],\n",
    "          'gamma' :[i/10.0 for i in range(0,5)],\n",
    "          'max_depth' : [2,4,6,8,10,12,13,15],\n",
    "          'min_child_weight':[1,2,5,10],\n",
    "          'max_delta_step':[0,1,2,5,10],\n",
    "          'scale_pos_weight':[1,2,3,4,5,6,7,8,9],\n",
    "          'subsample' :[i/10.0 for i in range(5,10)],\n",
    "          'colsample_bytree' :[i/10.0 for i in range(5,10)],\n",
    "          'colsample_bylevel' :[i/10.0 for i in range(5,10)],\n",
    "          'class_weight':['balanced'],\n",
    "          'reg_lambda' : [1e-5,1e-2,0.1,1,100],\n",
    "          'reg_alpha' : [1e-5,1e-2,0.1,1,100],\n",
    "          'n_estimators' : [100,150,200,300]\n",
    "   }```"
   ]
  },
  {
   "cell_type": "code",
   "execution_count": 40,
   "metadata": {},
   "outputs": [],
   "source": [
    "reg = XGBRegressor(objective= 'reg:linear',colsample_bylevel=1,\n",
    "       colsample_bytree=1, gamma=0.9, learning_rate=0.9, max_delta_step=0, max_depth=13,\n",
    "       min_child_weight=4, n_estimators=10, nthread=None,reg_alpha=0.5,reg_lambda=1,subsample=1,seed=1122)"
   ]
  },
  {
   "cell_type": "code",
   "execution_count": 41,
   "metadata": {},
   "outputs": [
    {
     "name": "stderr",
     "output_type": "stream",
     "text": [
      "C:\\ProgramData\\Anaconda3\\lib\\site-packages\\xgboost\\core.py:587: FutureWarning: Series.base is deprecated and will be removed in a future version\n",
      "  if getattr(data, 'base', None) is not None and \\\n",
      "C:\\ProgramData\\Anaconda3\\lib\\site-packages\\xgboost\\core.py:588: FutureWarning: Series.base is deprecated and will be removed in a future version\n",
      "  data.base is not None and isinstance(data, np.ndarray) \\\n"
     ]
    },
    {
     "data": {
      "text/plain": [
       "XGBRegressor(base_score=0.5, booster='gbtree', colsample_bylevel=1,\n",
       "       colsample_bytree=1, gamma=0.9, importance_type='gain',\n",
       "       learning_rate=0.9, max_delta_step=0, max_depth=13,\n",
       "       min_child_weight=4, missing=None, n_estimators=10, n_jobs=1,\n",
       "       nthread=None, objective='reg:linear', random_state=0, reg_alpha=0.5,\n",
       "       reg_lambda=1, scale_pos_weight=1, seed=1122, silent=True,\n",
       "       subsample=1)"
      ]
     },
     "execution_count": 41,
     "metadata": {},
     "output_type": "execute_result"
    }
   ],
   "source": [
    "reg.fit(x_train,y_train)"
   ]
  },
  {
   "cell_type": "code",
   "execution_count": 43,
   "metadata": {},
   "outputs": [],
   "source": [
    "p_test = reg.predict(x_test)\n",
    "p_test = np.where(p_test<0,12,p_test)"
   ]
  },
  {
   "cell_type": "code",
   "execution_count": 44,
   "metadata": {
    "scrolled": true
   },
   "outputs": [
    {
     "name": "stdout",
     "output_type": "stream",
     "text": [
      "Tentative RMSE XG-BOOST based model: 2666.532861226353\n"
     ]
    }
   ],
   "source": [
    "rmse_xgb = np.sqrt(np.mean((y_test-p_test)**2))\n",
    "print('Tentative RMSE XG-BOOST based model: {}'.format(rmse_xgb))"
   ]
  },
  {
   "cell_type": "code",
   "execution_count": 45,
   "metadata": {},
   "outputs": [
    {
     "data": {
      "text/plain": [
       "XGBRegressor(base_score=0.5, booster='gbtree', colsample_bylevel=1,\n",
       "       colsample_bytree=1, gamma=0.9, importance_type='gain',\n",
       "       learning_rate=0.9, max_delta_step=0, max_depth=13,\n",
       "       min_child_weight=4, missing=None, n_estimators=10, n_jobs=1,\n",
       "       nthread=None, objective='reg:linear', random_state=0, reg_alpha=0.5,\n",
       "       reg_lambda=1, scale_pos_weight=1, seed=1122, silent=True,\n",
       "       subsample=1)"
      ]
     },
     "execution_count": 45,
     "metadata": {},
     "output_type": "execute_result"
    }
   ],
   "source": [
    "reg.fit(X_train,Y_train)"
   ]
  },
  {
   "cell_type": "code",
   "execution_count": 46,
   "metadata": {},
   "outputs": [],
   "source": [
    "submit['Purchase'] = reg.predict(test_df)\n",
    "submit['Purchase'] = np.where(submit['Purchase']<0,12,submit['Purchase'])\n",
    "submit.to_csv('Nazira_Black_friday_sales_prediction.csv',index = False)"
   ]
  },
  {
   "cell_type": "markdown",
   "metadata": {},
   "source": [
    "**Tremendous improvement in RMSE : 2666**"
   ]
  },
  {
   "cell_type": "markdown",
   "metadata": {},
   "source": [
    "# Neural networks"
   ]
  },
  {
   "cell_type": "code",
   "execution_count": 26,
   "metadata": {},
   "outputs": [],
   "source": [
    "from sklearn.neural_network import MLPRegressor\n",
    "from sklearn.model_selection import RandomizedSearchCV\n",
    "from sklearn.metrics import mean_absolute_error"
   ]
  },
  {
   "cell_type": "markdown",
   "metadata": {},
   "source": [
    "```parameters = {'learning_rate': ['constant','invscaling','adaptive'],\n",
    "             'hidden_layer_sizes': [(1,6),(20,10),(50,20,40)],\n",
    "             'alpha': [0.3,0.1,0.01,0.05],\n",
    "             'activation':['logistic','relu','tanh']}```"
   ]
  },
  {
   "cell_type": "code",
   "execution_count": 27,
   "metadata": {},
   "outputs": [
    {
     "name": "stderr",
     "output_type": "stream",
     "text": [
      "C:\\ProgramData\\Anaconda3\\lib\\site-packages\\sklearn\\neural_network\\multilayer_perceptron.py:562: ConvergenceWarning: Stochastic Optimizer: Maximum iterations (200) reached and the optimization hasn't converged yet.\n",
      "  % self.max_iter, ConvergenceWarning)\n"
     ]
    },
    {
     "data": {
      "text/plain": [
       "MLPRegressor(activation='relu', alpha=0.3, batch_size='auto', beta_1=0.9,\n",
       "       beta_2=0.999, early_stopping=False, epsilon=1e-08,\n",
       "       hidden_layer_sizes=(100, 50), learning_rate='adaptive',\n",
       "       learning_rate_init=0.001, max_iter=200, momentum=0.9,\n",
       "       n_iter_no_change=10, nesterovs_momentum=True, power_t=0.5,\n",
       "       random_state=None, shuffle=True, solver='adam', tol=0.0001,\n",
       "       validation_fraction=0.1, verbose=False, warm_start=False)"
      ]
     },
     "execution_count": 27,
     "metadata": {},
     "output_type": "execute_result"
    }
   ],
   "source": [
    "model = MLPRegressor(learning_rate='adaptive',hidden_layer_sizes=(100,50),alpha = 0.3,activation='relu')\n",
    "model.fit(x_train,y_train)"
   ]
  },
  {
   "cell_type": "code",
   "execution_count": 28,
   "metadata": {},
   "outputs": [],
   "source": [
    "p_test = model.predict(x_test)"
   ]
  },
  {
   "cell_type": "code",
   "execution_count": 29,
   "metadata": {},
   "outputs": [
    {
     "name": "stdout",
     "output_type": "stream",
     "text": [
      "RMSE Neural_network: 3426.5794699046683\n"
     ]
    }
   ],
   "source": [
    "RMSE_neural = np.sqrt(np.mean((y_test-p_test)**2))\n",
    "print(\"RMSE Neural_network: {}\".format(RMSE_neural))"
   ]
  },
  {
   "cell_type": "code",
   "execution_count": null,
   "metadata": {},
   "outputs": [],
   "source": [
    "# No improvement with neral network based model,but can be improved by tuning hidden layer sizes, \n",
    "# Due to infrastructure issue unable to build large complex neural nets"
   ]
  },
  {
   "cell_type": "markdown",
   "metadata": {},
   "source": [
    "**Conclusion:XGBoost is performing the best**"
   ]
  }
 ],
 "metadata": {
  "kernelspec": {
   "display_name": "Python 3",
   "language": "python",
   "name": "python3"
  },
  "language_info": {
   "codemirror_mode": {
    "name": "ipython",
    "version": 3
   },
   "file_extension": ".py",
   "mimetype": "text/x-python",
   "name": "python",
   "nbconvert_exporter": "python",
   "pygments_lexer": "ipython3",
   "version": "3.7.1"
  }
 },
 "nbformat": 4,
 "nbformat_minor": 2
}
